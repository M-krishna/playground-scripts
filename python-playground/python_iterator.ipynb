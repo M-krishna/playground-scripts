{
 "cells": [
  {
   "cell_type": "markdown",
   "metadata": {},
   "source": [
    "### Iterator and Generator Examples"
   ]
  },
  {
   "cell_type": "code",
   "execution_count": 5,
   "metadata": {},
   "outputs": [
    {
     "name": "stdout",
     "output_type": "stream",
     "text": [
      "1\n",
      "2\n",
      "3\n",
      "4\n"
     ]
    }
   ],
   "source": [
    "### What is `__iter__` and `__next__` dunder methods?\n",
    "\n",
    "### `__iter__`\n",
    "# * `__iter__` makes a class iterable\n",
    "# * Usually returns `self` for iterator class\n",
    "# * Can yield values for generators\n",
    "# * Must be paired with `__next__` for iterators\n",
    "\n",
    "# Regular iterable class\n",
    "class Counter:\n",
    "    def __init__(self, low, high):\n",
    "        self.current = low - 1\n",
    "        self.high = high\n",
    "\n",
    "    def __iter__(self):\n",
    "        return self # returns itself\n",
    "\n",
    "    def __next__(self):\n",
    "        self.current += 1\n",
    "        if self.current <= self.high:\n",
    "            return self.current\n",
    "        raise StopIteration \n",
    "\n",
    "counter = Counter(1, 4)\n",
    "for c in counter:\n",
    "    print(c)"
   ]
  },
  {
   "cell_type": "code",
   "execution_count": 4,
   "metadata": {},
   "outputs": [
    {
     "name": "stdout",
     "output_type": "stream",
     "text": [
      "1\n",
      "2\n",
      "3\n",
      "4\n"
     ]
    }
   ],
   "source": [
    "# Reimplementing the Counter class as a Generator function\n",
    "def counter(low, high):\n",
    "    current = low\n",
    "    while current <= high:\n",
    "        yield current\n",
    "        current += 1\n",
    "\n",
    "generator_object = counter(1, 4)\n",
    "for c in generator_object:\n",
    "    print(c)"
   ]
  },
  {
   "cell_type": "code",
   "execution_count": 24,
   "metadata": {},
   "outputs": [
    {
     "data": {
      "text/plain": [
       "[0,\n",
       " 1,\n",
       " 1,\n",
       " 2,\n",
       " 3,\n",
       " 5,\n",
       " 8,\n",
       " 13,\n",
       " 21,\n",
       " 34,\n",
       " 55,\n",
       " 89,\n",
       " 144,\n",
       " 233,\n",
       " 377,\n",
       " 610,\n",
       " 987,\n",
       " 1597,\n",
       " 2584,\n",
       " 4181,\n",
       " 6765,\n",
       " 10946,\n",
       " 17711,\n",
       " 28657,\n",
       " 46368,\n",
       " 75025,\n",
       " 121393,\n",
       " 196418,\n",
       " 317811,\n",
       " 514229]"
      ]
     },
     "execution_count": 24,
     "metadata": {},
     "output_type": "execute_result"
    }
   ],
   "source": [
    "# Few Generator examples\n",
    "\n",
    "# Generating Fibonacci numbers\n",
    "def generate_fibonacci_numbers():\n",
    "    a, b = 0, 1\n",
    "    while True:\n",
    "        yield a\n",
    "        a, b = b, a + b\n",
    "\n",
    "fibonacci_generator = generate_fibonacci_numbers()\n",
    "\n",
    "def generate_fibonacci_upto(_range):\n",
    "    return [next(fibonacci_generator) for _ in range(_range)]\n",
    "\n",
    "generate_fibonacci_upto(10)"
   ]
  },
  {
   "cell_type": "code",
   "execution_count": 30,
   "metadata": {},
   "outputs": [
    {
     "name": "stdout",
     "output_type": "stream",
     "text": [
      "[0, 2, 4, 6, 8, 10, 12, 14, 16, 18, 20, 22, 24, 26, 28, 30, 32, 34, 36, 38]\n"
     ]
    }
   ],
   "source": [
    "# Even number generator\n",
    "\n",
    "def generate_even_numbers():\n",
    "    i = 0\n",
    "    while True:\n",
    "        if i % 2 == 0:\n",
    "            yield i\n",
    "        i += 1\n",
    "\n",
    "even_number_generator = generate_even_numbers()\n",
    "\n",
    "def generate_even_numbers_upto(_range):\n",
    "    return [next(even_number_generator) for _ in range(_range)]\n",
    "\n",
    "print(generate_even_numbers_upto(20))"
   ]
  },
  {
   "cell_type": "code",
   "execution_count": 33,
   "metadata": {},
   "outputs": [
    {
     "name": "stdout",
     "output_type": "stream",
     "text": [
      "[0, 1, 4, 9, 16, 25, 36, 49, 64, 81]\n"
     ]
    }
   ],
   "source": [
    "# Generate square numbers\n",
    "\n",
    "def generate_square_numbers():\n",
    "    i = 0\n",
    "    while True:\n",
    "        yield i * i\n",
    "        i += 1\n",
    "\n",
    "square_number_generator = generate_square_numbers()\n",
    "\n",
    "def generate_square_numbers_upto(_range):\n",
    "    return [next(square_number_generator) for _ in range(_range)]\n",
    "\n",
    "print(generate_square_numbers_upto(10))"
   ]
  },
  {
   "cell_type": "code",
   "execution_count": null,
   "metadata": {},
   "outputs": [],
   "source": []
  },
  {
   "cell_type": "code",
   "execution_count": 52,
   "metadata": {},
   "outputs": [
    {
     "name": "stdout",
     "output_type": "stream",
     "text": [
      "['2025-04-16', '2025-04-17', '2025-04-18', '2025-04-19', '2025-04-20']\n"
     ]
    }
   ],
   "source": [
    "# Infinite date generator\n",
    "from datetime import datetime, timedelta\n",
    "\n",
    "def generate_infinite_date():\n",
    "    current_date = datetime.now()\n",
    "    while True:\n",
    "        current_date += timedelta(days=1)\n",
    "        yield current_date.strftime(\"%Y-%m-%d\")\n",
    "\n",
    "infinite_date_generator = generate_infinite_date()\n",
    "\n",
    "def generate_date_upto(_range):\n",
    "    return [next(infinite_date_generator) for _ in range(_range)]\n",
    "\n",
    "print(generate_date_upto(5))\n"
   ]
  }
 ],
 "metadata": {
  "kernelspec": {
   "display_name": "3.10.0",
   "language": "python",
   "name": "python3"
  },
  "language_info": {
   "codemirror_mode": {
    "name": "ipython",
    "version": 3
   },
   "file_extension": ".py",
   "mimetype": "text/x-python",
   "name": "python",
   "nbconvert_exporter": "python",
   "pygments_lexer": "ipython3",
   "version": "3.10.0"
  }
 },
 "nbformat": 4,
 "nbformat_minor": 2
}
