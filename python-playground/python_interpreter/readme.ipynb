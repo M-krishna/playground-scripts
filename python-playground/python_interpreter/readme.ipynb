{
 "cells": [
  {
   "cell_type": "markdown",
   "metadata": {},
   "source": [
    "Working out details mentioned in: https://aosabook.org/en/500L/a-python-interpreter-written-in-python.html\n",
    "\n",
    "To get immediate feedback, let's build a small interpreter that adds together numbers. Like `7 + 5` and so on.\n",
    "\n",
    "The interpreter we are going to build is a Stack based interpreter. Meaning we manipulate the stack to execute instructions of our program.\n",
    "\n",
    "Let's take a look at the instructions we need to add numbers.\n",
    "1. `LOAD_VALUE`\n",
    "2. `ADD_TWO_VALUES`\n",
    "3. `PRINT_ANSWER`\n",
    "\n",
    "Let's say we are trying to `7 + 5`. We represent this code in instructions like:\n",
    "```python\n",
    "what_to_execute = {\n",
    "    \"instructions\": [(\"LOAD_VALUE\", 0),\n",
    "                     (\"LOAD_VALUE\", 1),\n",
    "                     (\"ADD_TWO_VALUES\", None),\n",
    "                     (\"PRINT_ANSWER\", None)\n",
    "                    ],\n",
    "    \"numbers\": [7, 5]\n",
    "}\n",
    "```\n",
    "\n",
    "So in the stack machine, the state would look something like:\n",
    "1. Empty stack. `[]`\n",
    "2. `LOAD_VALUE 7`, `[7]`\n",
    "3. `LOAD_VALUE 5`, `[7, 5]`\n",
    "4. `ADD_TWO_VALUES`, `[12]` => `7 + 5` = 12\n",
    "5. `PRINT_ANSWER`, `[]` => pop the result from the stack\n",
    "\n",
    "\n",
    "Let's build an interpreter for this."
   ]
  },
  {
   "cell_type": "code",
   "execution_count": 1,
   "metadata": {},
   "outputs": [
    {
     "name": "stdout",
     "output_type": "stream",
     "text": [
      "12\n"
     ]
    }
   ],
   "source": [
    "# An Interpreter to add numbers\n",
    "\n",
    "class Interpreter:\n",
    "    def __init__(self):\n",
    "        self.stack = []\n",
    "\n",
    "    def LOAD_VALUE(self, number: int):\n",
    "        self.stack.append(number)\n",
    "\n",
    "    def PRINT_ANSWER(self):\n",
    "        result = self.stack.pop()\n",
    "        print(result)\n",
    "\n",
    "    def ADD_TWO_VALUES(self):\n",
    "        first_num = self.stack.pop()\n",
    "        second_num = self.stack.pop()\n",
    "        total = first_num + second_num\n",
    "        self.stack.append(total)\n",
    "\n",
    "    def run_code(self, what_to_execute: object):\n",
    "        instructions = what_to_execute[\"instructions\"]\n",
    "        numbers = what_to_execute[\"numbers\"]\n",
    "\n",
    "        for each_step in instructions:\n",
    "            instruction, argument = each_step\n",
    "            if instruction == \"LOAD_VALUE\":\n",
    "                self.LOAD_VALUE(numbers[argument])\n",
    "            elif instruction == \"ADD_TWO_VALUES\":\n",
    "                self.ADD_TWO_VALUES()\n",
    "            elif instruction == \"PRINT_ANSWER\":\n",
    "                self.PRINT_ANSWER()\n",
    "\n",
    "what_to_execute = {\n",
    "    \"instructions\": [(\"LOAD_VALUE\", 0), (\"LOAD_VALUE\", 1), (\"ADD_TWO_VALUES\", None), (\"PRINT_ANSWER\", None)],\n",
    "    \"numbers\": [7, 5]\n",
    "}\n",
    "\n",
    "interpreter = Interpreter()\n",
    "interpreter.run_code(what_to_execute) # should print 12"
   ]
  },
  {
   "cell_type": "markdown",
   "metadata": {},
   "source": [
    "Using the same interpreter what if we want to add *n* numbers? We can modify the instructions such that it can add numbers. Let's look at that."
   ]
  },
  {
   "cell_type": "code",
   "execution_count": 4,
   "metadata": {},
   "outputs": [
    {
     "name": "stdout",
     "output_type": "stream",
     "text": [
      "1840\n"
     ]
    }
   ],
   "source": [
    "what_to_execute = {\n",
    "    \"instructions\": [\n",
    "        (\"LOAD_VALUE\", 0), (\"LOAD_VALUE\", 1), (\"ADD_TWO_VALUES\", None), (\"LOAD_VALUE\", 2), (\"LOAD_VALUE\", 3),\n",
    "        (\"ADD_TWO_VALUES\", None), (\"ADD_TWO_VALUES\", None), (\"PRINT_ANSWER\", None)\n",
    "    ],\n",
    "    \"numbers\": [100, 200, 1500, 40]\n",
    "}\n",
    "\n",
    "interpreter = Interpreter()\n",
    "interpreter.run_code(what_to_execute) # should print 1840"
   ]
  },
  {
   "cell_type": "markdown",
   "metadata": {},
   "source": [
    "### Variables\n",
    "\n",
    "Next lets add Variables to our interpreter. Variables require an instruction for storing the value of a variable, `STORE_NAME`; an instruction for retrieving it `LOAD_NAME`; and a mapping from variable names to values.\n",
    "\n",
    "For now, we'll ignore the namespaces and scoping, so that we can store the variable mapping on the interpreter object itself.\n",
    "\n",
    "Finally we have to make sure that `what_to_execute` has a list of variable names, in addition to its list of constants.\n",
    "\n",
    "### Example\n",
    "```python\n",
    "def s():\n",
    "    a = 1\n",
    "    b = 2\n",
    "    print(a + b)\n",
    "\n",
    "# s is transformed into:\n",
    "\n",
    "what_to_execute = {\n",
    "    \"instructions\": [\n",
    "        (\"LOAD_VALUE\", 0),\n",
    "        (\"STORE_NAME\", 0),\n",
    "        (\"LOAD_VALUE\", 1),\n",
    "        (\"STORE_NAME\", 1),\n",
    "        (\"LOAD_NAME\", 0),\n",
    "        (\"LOAD_NAME\", 1),\n",
    "        (\"ADD_TWO_VALUES\", None),\n",
    "        (\"PRINT_ANSWER\", None)\n",
    "    ],\n",
    "    \"numbers\": [1, 2],\n",
    "    \"names\": [\"a\", \"b\"]\n",
    "}\n",
    "```\n",
    "\n",
    "To keep track of what names are bound to what values, we'll add an `environment` dictionary to the `__init__` method. We'll also add `STORE_NAME` and `LOAD_NAME`. These methods first look up variables in question and then use the dictionary to store or retrieve its value.\n",
    "\n",
    "**NOTE:** The arguments of the instructions can now mean two different things. They can either be an index into the \"numbers\" list, or they can be an index into the \"names\" list. The interpreter knows which it should be by checking what instruction it's executing. We'll break out this logic -- and the mapping of instruction to what their arguments mean -- into a separate method."
   ]
  },
  {
   "cell_type": "code",
   "execution_count": 9,
   "metadata": {},
   "outputs": [
    {
     "name": "stdout",
     "output_type": "stream",
     "text": [
      "3\n"
     ]
    }
   ],
   "source": [
    "# Updated code for Interpreter with support for Variable instructions\n",
    "class Interpreter:\n",
    "    def __init__(self):\n",
    "        self.stack = []\n",
    "        self.environment = {}\n",
    "\n",
    "    def LOAD_VALUE(self, number: int):\n",
    "        self.stack.append(number)\n",
    "\n",
    "    def PRINT_ANSWER(self):\n",
    "        result = self.stack.pop()\n",
    "        print(result)\n",
    "\n",
    "    def ADD_TWO_VALUES(self):\n",
    "        first_num = self.stack.pop()\n",
    "        second_num = self.stack.pop()\n",
    "        total = first_num + second_num\n",
    "        self.stack.append(total)\n",
    "\n",
    "    def STORE_NAME(self, name):\n",
    "        val = self.stack.pop()\n",
    "        self.environment[name] = val\n",
    "\n",
    "    def LOAD_NAME(self, name):\n",
    "        val = self.environment[name]\n",
    "        self.stack.append(val)\n",
    "\n",
    "    def parse_argument(self, instruction, argument, what_to_execute):\n",
    "        # Understand what the argument to each instruction means\n",
    "        numbers = [\"LOAD_VALUE\"]\n",
    "        names = [\"LOAD_NAME\", \"STORE_NAME\"]\n",
    "\n",
    "        if instruction in numbers:\n",
    "            argument = what_to_execute[\"numbers\"][argument]\n",
    "        elif instruction in names:\n",
    "            argument = what_to_execute[\"names\"][argument]\n",
    "        \n",
    "        return argument\n",
    "\n",
    "    def run_code(self, what_to_execute):\n",
    "        instructions = what_to_execute[\"instructions\"]\n",
    "        for each_step in instructions:\n",
    "            instruction, argument = each_step\n",
    "            argument = self.parse_argument(instruction, argument, what_to_execute)\n",
    "\n",
    "            if instruction == \"LOAD_VALUE\":\n",
    "                self.LOAD_VALUE(argument)\n",
    "            elif instruction == \"LOAD_NAME\":\n",
    "                self.LOAD_NAME(argument)\n",
    "            elif instruction == \"STORE_NAME\":\n",
    "                self.STORE_NAME(argument)\n",
    "            elif instruction == \"ADD_TWO_VALUES\":\n",
    "                self.ADD_TWO_VALUES()\n",
    "            elif instruction == \"PRINT_ANSWER\":\n",
    "                self.PRINT_ANSWER()\n",
    "\n",
    "    def execute_code(self, what_to_execute):\n",
    "        instructions = what_to_execute[\"instructions\"]\n",
    "        for each_step in instructions:\n",
    "            instruction, argument = each_step\n",
    "            argument = self.parse_argument(instruction, argument, what_to_execute)\n",
    "            bytecode_method = getattr(self, instruction)\n",
    "            if argument is None:\n",
    "                bytecode_method()\n",
    "            else:\n",
    "                bytecode_method(argument)\n",
    "\n",
    "\n",
    "what_to_execute = {\n",
    "    \"instructions\": [\n",
    "        (\"LOAD_VALUE\", 0),\n",
    "        (\"STORE_NAME\", 0),\n",
    "        (\"LOAD_VALUE\", 1),\n",
    "        (\"STORE_NAME\", 1),\n",
    "        (\"LOAD_NAME\", 0),\n",
    "        (\"LOAD_NAME\", 1),\n",
    "        (\"ADD_TWO_VALUES\", None),\n",
    "        (\"PRINT_ANSWER\", None)\n",
    "    ],\n",
    "    \"numbers\": [1, 2],\n",
    "    \"names\": [\"a\", \"b\"]\n",
    "}\n",
    "\n",
    "interpreter = Interpreter()\n",
    "interpreter.run_code(what_to_execute)\n",
    "# interpreter.execute_code(what_to_execute)\n"
   ]
  },
  {
   "cell_type": "markdown",
   "metadata": {},
   "source": [
    "Even with just five instructions, the `run_code` method is starting to get tedious. If we have to add one more instruction, then we have to add an if branch and that makes our code bloated. To fix this, we can use Python's dynamic method lookup. We can use the `getattr` function to look up the method on the fly. Let's implement it in the above cell. Check out the `execute_code` method."
   ]
  },
  {
   "cell_type": "markdown",
   "metadata": {},
   "source": [
    "### Real Python Bytecode\n",
    "At time point, we'll abandon our toy instruction sets and switch to real Python bytecode. The structure of the bytecode is similar to our toy interpreter's instruction sets, except it uses one byte instead of a long name to identify each instruction.\n",
    "\n",
    "We'll walkthrough the bytecode of a small function\n",
    "```python\n",
    "def cond():\n",
    "    x = 3\n",
    "    if x < 5:\n",
    "        return 'yes'\n",
    "    else:\n",
    "        return 'no'\n",
    "```"
   ]
  },
  {
   "cell_type": "code",
   "execution_count": 15,
   "metadata": {},
   "outputs": [
    {
     "name": "stdout",
     "output_type": "stream",
     "text": [
      "b'd\\x01}\\x00|\\x00d\\x02k\\x00r\\x08d\\x03S\\x00d\\x04S\\x00'\n"
     ]
    }
   ],
   "source": [
    "# __code__ and .co_code methods\n",
    "\n",
    "def cond():\n",
    "    x = 3\n",
    "    if x < 5:\n",
    "        return 'yes'\n",
    "    else:\n",
    "        return 'no'\n",
    "\n",
    "print(cond.__code__.co_code)\n",
    "\n",
    "# cond.__code__ returns a code object\n",
    "# cond.__code__.co_code returns the bytecode as raw bytes"
   ]
  },
  {
   "cell_type": "markdown",
   "metadata": {},
   "source": [
    "By looking at the raw bytes of the bytecode, its hard to infer things. Let's turn that into a list of integers. We can do that by `list(cond.__code__.co_code)`"
   ]
  },
  {
   "cell_type": "code",
   "execution_count": 16,
   "metadata": {},
   "outputs": [
    {
     "name": "stdout",
     "output_type": "stream",
     "text": [
      "[100, 1, 125, 0, 124, 0, 100, 2, 107, 0, 114, 8, 100, 3, 83, 0, 100, 4, 83, 0]\n"
     ]
    }
   ],
   "source": [
    "print(list(cond.__code__.co_code)) # the bytecode as numbers. These are series of bytes"
   ]
  },
  {
   "cell_type": "markdown",
   "metadata": {},
   "source": [
    "Let's take a look at a powerful tool which helps us look into this data clearly. That is the Python `dis` module, short for **bytecode disassembler**. A disassembler takes low-level code that is written for machines, like assembly code or bytecode, and prints it in a human-readable way.\n",
    "\n",
    "When we run `dis.dis`, it outputs an explanation of the bytecode it has passed."
   ]
  },
  {
   "cell_type": "code",
   "execution_count": 17,
   "metadata": {},
   "outputs": [
    {
     "name": "stdout",
     "output_type": "stream",
     "text": [
      "  4           0 LOAD_CONST               1 (3)\n",
      "              2 STORE_FAST               0 (x)\n",
      "\n",
      "  5           4 LOAD_FAST                0 (x)\n",
      "              6 LOAD_CONST               2 (5)\n",
      "              8 COMPARE_OP               0 (<)\n",
      "             10 POP_JUMP_IF_FALSE        8 (to 16)\n",
      "\n",
      "  6          12 LOAD_CONST               3 ('yes')\n",
      "             14 RETURN_VALUE\n",
      "\n",
      "  8     >>   16 LOAD_CONST               4 ('no')\n",
      "             18 RETURN_VALUE\n"
     ]
    }
   ],
   "source": [
    "# Run this cell to see the bytecode of the `cond` function\n",
    "import dis\n",
    "\n",
    "dis.dis(cond)"
   ]
  },
  {
   "cell_type": "markdown",
   "metadata": {},
   "source": [
    "### Lets go through the bytecode step by step\n",
    "\n",
    "Let's take the first instruction `LOAD_CONST` as an example.\n",
    "\n",
    "* The number in the first column (4) shows the line number in our python source code.\n",
    "* The second column is an index into the bytecode, telling us that `LOAD_CONST` instruction appears at position zero\n",
    "* The third column is the instruction itself, mapped to its human-readable name.\n",
    "* The forth column, when present, is the argument to that instruction.\n",
    "* The fifth column, when present, is a hint about what the argument means\n",
    "\n",
    "### Raw Bytes\n",
    "Looking at the first few bytes of this bytecode: [100, 1, 125, 0, 124, 0]\n",
    "\n",
    "These 6 bytes represents the first 3 instructions with their arguments. We can use `dis.opname`, a mapping from bytes to intelligible strings, to find what instructions 100, 125 and 124 map to:"
   ]
  },
  {
   "cell_type": "code",
   "execution_count": null,
   "metadata": {},
   "outputs": [],
   "source": [
    "print(dis.opname[100])\n",
    "print(dis.opname[125])\n",
    "print(dis.opname[124])"
   ]
  }
 ],
 "metadata": {
  "kernelspec": {
   "display_name": "3.10.0",
   "language": "python",
   "name": "python3"
  },
  "language_info": {
   "codemirror_mode": {
    "name": "ipython",
    "version": 3
   },
   "file_extension": ".py",
   "mimetype": "text/x-python",
   "name": "python",
   "nbconvert_exporter": "python",
   "pygments_lexer": "ipython3",
   "version": "3.10.0"
  }
 },
 "nbformat": 4,
 "nbformat_minor": 2
}
