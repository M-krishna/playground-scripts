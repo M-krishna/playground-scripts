{
 "cells": [
  {
   "cell_type": "markdown",
   "metadata": {},
   "source": [
    "Working out details mentioned in: https://aosabook.org/en/500L/a-python-interpreter-written-in-python.html\n",
    "\n",
    "To get immediate feedback, let's build a small interpreter that adds together numbers. Like `7 + 5` and so on.\n",
    "\n",
    "The interpreter we are going to build is a Stack based interpreter. Meaning we manipulate the stack to execute instructions of our program.\n",
    "\n",
    "Let's take a look at the instructions we need to add numbers.\n",
    "1. `LOAD_VALUE`\n",
    "2. `ADD_TWO_VALUES`\n",
    "3. `PRINT_ANSWER`\n",
    "\n",
    "Let's say we are trying to `7 + 5`. We represent this code in instructions like:\n",
    "```python\n",
    "what_to_execute = {\n",
    "    \"instructions\": [(\"LOAD_VALUE\", 0),\n",
    "                     (\"LOAD_VALUE\", 1),\n",
    "                     (\"ADD_TWO_VALUES\", None),\n",
    "                     (\"PRINT_ANSWER\", None)\n",
    "                    ],\n",
    "    \"numbers\": [7, 5]\n",
    "}\n",
    "```\n",
    "\n",
    "So in the stack machine, the state would look something like:\n",
    "1. Empty stack. `[]`\n",
    "2. `LOAD_VALUE 7`, `[7]`\n",
    "3. `LOAD_VALUE 5`, `[7, 5]`\n",
    "4. `ADD_TWO_VALUES`, `[12]` => `7 + 5` = 12\n",
    "5. `PRINT_ANSWER`, `[]` => pop the result from the stack\n",
    "\n",
    "\n",
    "Let's build an interpreter for this."
   ]
  },
  {
   "cell_type": "code",
   "execution_count": 3,
   "metadata": {},
   "outputs": [
    {
     "name": "stdout",
     "output_type": "stream",
     "text": [
      "12\n"
     ]
    }
   ],
   "source": [
    "# An Interpreter to add numbers\n",
    "\n",
    "class Interpreter:\n",
    "    def __init__(self):\n",
    "        self.stack = []\n",
    "\n",
    "    def LOAD_VALUE(self, number: int):\n",
    "        self.stack.append(number)\n",
    "\n",
    "    def PRINT_ANSWER(self):\n",
    "        result = self.stack.pop()\n",
    "        print(result)\n",
    "\n",
    "    def ADD_TWO_VALUES(self):\n",
    "        first_num = self.stack.pop()\n",
    "        second_num = self.stack.pop()\n",
    "        total = first_num + second_num\n",
    "        self.stack.append(total)\n",
    "\n",
    "    def run_code(self, what_to_execute: object):\n",
    "        instructions = what_to_execute[\"instructions\"]\n",
    "        numbers = what_to_execute[\"numbers\"]\n",
    "\n",
    "        for each_step in instructions:\n",
    "            instruction, argument = each_step\n",
    "            if instruction == \"LOAD_VALUE\":\n",
    "                self.LOAD_VALUE(numbers[argument])\n",
    "            elif instruction == \"ADD_TWO_VALUES\":\n",
    "                self.ADD_TWO_VALUES()\n",
    "            elif instruction == \"PRINT_ANSWER\":\n",
    "                self.PRINT_ANSWER()\n",
    "\n",
    "what_to_execute = {\n",
    "    \"instructions\": [(\"LOAD_VALUE\", 0), (\"LOAD_VALUE\", 1), (\"ADD_TWO_VALUES\", None), (\"PRINT_ANSWER\", None)],\n",
    "    \"numbers\": [7, 5]\n",
    "}\n",
    "\n",
    "interpreter = Interpreter()\n",
    "interpreter.run_code(what_to_execute) # should print 12"
   ]
  },
  {
   "cell_type": "markdown",
   "metadata": {},
   "source": [
    "Using the same interpreter what if we want to add *n* numbers? We can modify the instructions such that it can add numbers. Let's look at that."
   ]
  },
  {
   "cell_type": "code",
   "execution_count": 4,
   "metadata": {},
   "outputs": [
    {
     "name": "stdout",
     "output_type": "stream",
     "text": [
      "1840\n"
     ]
    }
   ],
   "source": [
    "what_to_execute = {\n",
    "    \"instructions\": [\n",
    "        (\"LOAD_VALUE\", 0), (\"LOAD_VALUE\", 1), (\"ADD_TWO_VALUES\", None), (\"LOAD_VALUE\", 2), (\"LOAD_VALUE\", 3),\n",
    "        (\"ADD_TWO_VALUES\", None), (\"ADD_TWO_VALUES\", None), (\"PRINT_ANSWER\", None)\n",
    "    ],\n",
    "    \"numbers\": [100, 200, 1500, 40]\n",
    "}\n",
    "\n",
    "interpreter = Interpreter()\n",
    "interpreter.run_code(what_to_execute) # should print 1840"
   ]
  },
  {
   "cell_type": "markdown",
   "metadata": {},
   "source": [
    "### Variables\n",
    "\n",
    "Next lets add Variables to our interpreter. Variables require an instruction for storing the value of a variable, `STORE_NAME`; an instruction for retrieving it `LOAD_NAME`; and a mapping from variable names to values.\n",
    "\n",
    "For now, we'll ignore the namespaces and scoping, so that we can store the variable mapping on the interpreter object itself.\n",
    "\n",
    "Finally we have to make sure that `what_to_execute` has a list of variable names, in addition to its list of constants.\n",
    "\n",
    "### Example\n",
    "```python\n",
    "def s():\n",
    "    a = 1\n",
    "    b = 2\n",
    "    print(a + b)\n",
    "\n",
    "# s is transformed into:\n",
    "\n",
    "what_to_execute = {\n",
    "    \"instructions\": [\n",
    "        (\"LOAD_VALUE\", 0),\n",
    "        (\"STORE_NAME\", 0),\n",
    "        (\"LOAD_VALUE\", 1),\n",
    "        (\"STORE_NAME\", 1),\n",
    "        (\"LOAD_NAME\", 0),\n",
    "        (\"LOAD_NAME\", 1),\n",
    "        (\"ADD_TWO_VALUES\", None),\n",
    "        (\"PRINT_ANSWER\", None)\n",
    "    ],\n",
    "    \"numbers\": [1, 2],\n",
    "    \"names\": [\"a\", \"b\"]\n",
    "}\n",
    "```\n",
    "\n",
    "To keep track of what names are bound to what values, we'll add an `environment` dictionary to the `__init__` method. We'll also add `STORE_NAME` and `LOAD_NAME`. These methods first look up variables in question and then use the dictionary to store or retrieve its value.\n",
    "\n",
    "**NOTE:** The arguments of the instructions can now mean two different things. They can either be an index into the \"numbers\" list, or they can be an index into the \"names\" list. The interpreter knows which it should be by checking what instruction it's executing. We'll break out this logic -- and the mapping of instruction to what their arguments mean -- into a separate method."
   ]
  },
  {
   "cell_type": "code",
   "execution_count": 5,
   "metadata": {},
   "outputs": [
    {
     "name": "stdout",
     "output_type": "stream",
     "text": [
      "3\n"
     ]
    }
   ],
   "source": [
    "# Updated code for Interpreter with support for Variable instructions\n",
    "class Interpreter:\n",
    "    def __init__(self):\n",
    "        self.stack = []\n",
    "        self.environment = {}\n",
    "\n",
    "    def LOAD_VALUE(self, number: int):\n",
    "        self.stack.append(number)\n",
    "\n",
    "    def PRINT_ANSWER(self):\n",
    "        result = self.stack.pop()\n",
    "        print(result)\n",
    "\n",
    "    def ADD_TWO_VALUES(self):\n",
    "        first_num = self.stack.pop()\n",
    "        second_num = self.stack.pop()\n",
    "        total = first_num + second_num\n",
    "        self.stack.append(total)\n",
    "\n",
    "    def STORE_NAME(self, name):\n",
    "        val = self.stack.pop()\n",
    "        self.environment[name] = val\n",
    "\n",
    "    def LOAD_NAME(self, name):\n",
    "        val = self.environment[name]\n",
    "        self.stack.append(val)\n",
    "\n",
    "    def parse_argument(self, instruction, argument, what_to_execute):\n",
    "        # Understand what the argument to each instruction means\n",
    "        numbers = [\"LOAD_VALUE\"]\n",
    "        names = [\"LOAD_NAME\", \"STORE_NAME\"]\n",
    "\n",
    "        if instruction in numbers:\n",
    "            argument = what_to_execute[\"numbers\"][argument]\n",
    "        elif instruction in names:\n",
    "            argument = what_to_execute[\"names\"][argument]\n",
    "        \n",
    "        return argument\n",
    "\n",
    "    def run_code(self, what_to_execute):\n",
    "        instructions = what_to_execute[\"instructions\"]\n",
    "        for each_step in instructions:\n",
    "            instruction, argument = each_step\n",
    "            argument = self.parse_argument(instruction, argument, what_to_execute)\n",
    "\n",
    "            if instruction == \"LOAD_VALUE\":\n",
    "                self.LOAD_VALUE(argument)\n",
    "            elif instruction == \"LOAD_NAME\":\n",
    "                self.LOAD_NAME(argument)\n",
    "            elif instruction == \"STORE_NAME\":\n",
    "                self.STORE_NAME(argument)\n",
    "            elif instruction == \"ADD_TWO_VALUES\":\n",
    "                self.ADD_TWO_VALUES()\n",
    "            elif instruction == \"PRINT_ANSWER\":\n",
    "                self.PRINT_ANSWER()\n",
    "\n",
    "    def execute_code(self, what_to_execute):\n",
    "        instructions = what_to_execute[\"instructions\"]\n",
    "        for each_step in instructions:\n",
    "            instruction, argument = each_step\n",
    "            argument = self.parse_argument(instruction, argument, what_to_execute)\n",
    "            bytecode_method = getattr(self, instruction)\n",
    "            if argument is None:\n",
    "                bytecode_method()\n",
    "            else:\n",
    "                bytecode_method(argument)\n",
    "\n",
    "\n",
    "what_to_execute = {\n",
    "    \"instructions\": [\n",
    "        (\"LOAD_VALUE\", 0),\n",
    "        (\"STORE_NAME\", 0),\n",
    "        (\"LOAD_VALUE\", 1),\n",
    "        (\"STORE_NAME\", 1),\n",
    "        (\"LOAD_NAME\", 0),\n",
    "        (\"LOAD_NAME\", 1),\n",
    "        (\"ADD_TWO_VALUES\", None),\n",
    "        (\"PRINT_ANSWER\", None)\n",
    "    ],\n",
    "    \"numbers\": [1, 2],\n",
    "    \"names\": [\"a\", \"b\"]\n",
    "}\n",
    "\n",
    "interpreter = Interpreter()\n",
    "interpreter.run_code(what_to_execute)\n",
    "# interpreter.execute_code(what_to_execute)\n"
   ]
  },
  {
   "cell_type": "markdown",
   "metadata": {},
   "source": [
    "Even with just five instructions, the `run_code` method is starting to get tedious. If we have to add one more instruction, then we have to add an if branch and that makes our code bloated. To fix this, we can use Python's dynamic method lookup. We can use the `getattr` function to look up the method on the fly. Let's implement it in the above cell. Check out the `execute_code` method."
   ]
  },
  {
   "cell_type": "markdown",
   "metadata": {},
   "source": [
    "### Real Python Bytecode\n",
    "At time point, we'll abandon our toy instruction sets and switch to real Python bytecode. The structure of the bytecode is similar to our toy interpreter's instruction sets, except it uses one byte instead of a long name to identify each instruction.\n",
    "\n",
    "We'll walkthrough the bytecode of a small function\n",
    "```python\n",
    "def cond():\n",
    "    x = 3\n",
    "    if x < 5:\n",
    "        return 'yes'\n",
    "    else:\n",
    "        return 'no'\n",
    "```"
   ]
  },
  {
   "cell_type": "code",
   "execution_count": 6,
   "metadata": {},
   "outputs": [
    {
     "name": "stdout",
     "output_type": "stream",
     "text": [
      "b'd\\x01}\\x00|\\x00d\\x02k\\x00r\\x08d\\x03S\\x00d\\x04S\\x00'\n"
     ]
    }
   ],
   "source": [
    "# __code__ and .co_code methods\n",
    "\n",
    "def cond():\n",
    "    x = 3\n",
    "    if x < 5:\n",
    "        return 'yes'\n",
    "    else:\n",
    "        return 'no'\n",
    "\n",
    "print(cond.__code__.co_code)\n",
    "\n",
    "# cond.__code__ returns a code object\n",
    "# cond.__code__.co_code returns the bytecode as raw bytes"
   ]
  },
  {
   "cell_type": "markdown",
   "metadata": {},
   "source": [
    "By looking at the raw bytes of the bytecode, its hard to infer things. Let's turn that into a list of integers. We can do that by `list(cond.__code__.co_code)`"
   ]
  },
  {
   "cell_type": "code",
   "execution_count": 7,
   "metadata": {},
   "outputs": [
    {
     "name": "stdout",
     "output_type": "stream",
     "text": [
      "[100, 1, 125, 0, 124, 0, 100, 2, 107, 0, 114, 8, 100, 3, 83, 0, 100, 4, 83, 0]\n"
     ]
    }
   ],
   "source": [
    "print(list(cond.__code__.co_code)) # the bytecode as numbers. These are series of bytes"
   ]
  },
  {
   "cell_type": "markdown",
   "metadata": {},
   "source": [
    "Let's take a look at a powerful tool which helps us look into this data clearly. That is the Python `dis` module, short for **bytecode disassembler**. A disassembler takes low-level code that is written for machines, like assembly code or bytecode, and prints it in a human-readable way.\n",
    "\n",
    "When we run `dis.dis`, it outputs an explanation of the bytecode it has passed."
   ]
  },
  {
   "cell_type": "code",
   "execution_count": 8,
   "metadata": {},
   "outputs": [
    {
     "name": "stdout",
     "output_type": "stream",
     "text": [
      "  4           0 LOAD_CONST               1 (3)\n",
      "              2 STORE_FAST               0 (x)\n",
      "\n",
      "  5           4 LOAD_FAST                0 (x)\n",
      "              6 LOAD_CONST               2 (5)\n",
      "              8 COMPARE_OP               0 (<)\n",
      "             10 POP_JUMP_IF_FALSE        8 (to 16)\n",
      "\n",
      "  6          12 LOAD_CONST               3 ('yes')\n",
      "             14 RETURN_VALUE\n",
      "\n",
      "  8     >>   16 LOAD_CONST               4 ('no')\n",
      "             18 RETURN_VALUE\n"
     ]
    }
   ],
   "source": [
    "# Run this cell to see the bytecode of the `cond` function\n",
    "import dis\n",
    "\n",
    "dis.dis(cond)"
   ]
  },
  {
   "cell_type": "markdown",
   "metadata": {},
   "source": [
    "### Lets go through the bytecode step by step\n",
    "\n",
    "Let's take the first instruction `LOAD_CONST` as an example.\n",
    "\n",
    "* The number in the first column (4) shows the line number in our python source code.\n",
    "* The second column is an index into the bytecode, telling us that `LOAD_CONST` instruction appears at position zero\n",
    "* The third column is the instruction itself, mapped to its human-readable name.\n",
    "* The forth column, when present, is the argument to that instruction.\n",
    "* The fifth column, when present, is a hint about what the argument means\n",
    "\n",
    "### Raw Bytes\n",
    "Looking at the first few bytes of this bytecode: [100, 1, 125, 0, 124, 0]\n",
    "\n",
    "These 6 bytes represents the first 3 instructions with their arguments. We can use `dis.opname`, a mapping from bytes to intelligible strings, to find what instructions 100, 125 and 124 map to:"
   ]
  },
  {
   "cell_type": "code",
   "execution_count": 9,
   "metadata": {},
   "outputs": [
    {
     "name": "stdout",
     "output_type": "stream",
     "text": [
      "LOAD_CONST\n",
      "STORE_FAST\n",
      "LOAD_FAST\n"
     ]
    }
   ],
   "source": [
    "print(dis.opname[100])\n",
    "print(dis.opname[125])\n",
    "print(dis.opname[124])"
   ]
  },
  {
   "cell_type": "markdown",
   "metadata": {},
   "source": [
    "### Conditionals and Loops\n",
    "So far, the interpreter has executed code simply by stepping through the instructions one by one. This is a problem; often we want to execute certain instructions multiple times, or skip them under certain conditions. To allow us to write loops and conditionals, the interpreter must be able to jump around in the instruction set. In a sense, Python handles loops and conditionals using `GOTO` statements in bytecode! Look at the disassembly of the bytecode again!"
   ]
  },
  {
   "cell_type": "code",
   "execution_count": 10,
   "metadata": {},
   "outputs": [
    {
     "name": "stdout",
     "output_type": "stream",
     "text": [
      "  4           0 LOAD_CONST               1 (3)\n",
      "              2 STORE_FAST               0 (x)\n",
      "\n",
      "  5           4 LOAD_FAST                0 (x)\n",
      "              6 LOAD_CONST               2 (5)\n",
      "              8 COMPARE_OP               0 (<)\n",
      "             10 POP_JUMP_IF_FALSE        8 (to 16)\n",
      "\n",
      "  6          12 LOAD_CONST               3 ('yes')\n",
      "             14 RETURN_VALUE\n",
      "\n",
      "  8     >>   16 LOAD_CONST               4 ('no')\n",
      "             18 RETURN_VALUE\n"
     ]
    }
   ],
   "source": [
    "dis.dis(cond)"
   ]
  },
  {
   "cell_type": "markdown",
   "metadata": {},
   "source": [
    "The conditional `x < 5` on line 5 of the code is compiled into four instructions: `LOAD_FAST`, `LOAD_CONST`, `COMPARE_OP`, `POP_JUMP_IF_FALSE`.\n",
    "\n",
    "`x < 5` generates code to load `x`, load `5`, and compares the two values. The instruction `POP_JUMP_IF_FALSE` is responsible for implementing the `if`. This instruction will pop the top value off the interpreter's stack. If the value is true, then nothing happens. (The value can be \"truthy\" -- it doesn't have to be the literal `True` object). If the value is `false`, then the interpreter will jump to another instruction.\n",
    "\n",
    "The instruction to land on is called the jump target, and its provided as the argument to the `POP_JUMP` instruction. Here, the jump target is `16`. The instruction at `16` is `LOAD_CONST` on line `8`. (`dis` marks the jump targets with `>>`).\n",
    "\n",
    "If the result of `x < 5` is False, then the interpreter will jump straight to line 8 (`return \"no\"`), skipping line 4 (`return \"yes\"`). Thus, the interpreter uses jump instruction to selectively skip over the parts of the instruction set.\n",
    "\n",
    "Let's look at an example for loops."
   ]
  },
  {
   "cell_type": "code",
   "execution_count": 11,
   "metadata": {},
   "outputs": [
    {
     "name": "stdout",
     "output_type": "stream",
     "text": [
      "  2           0 LOAD_CONST               1 (1)\n",
      "              2 STORE_FAST               0 (x)\n",
      "\n",
      "  3           4 LOAD_FAST                0 (x)\n",
      "              6 LOAD_CONST               2 (5)\n",
      "              8 COMPARE_OP               0 (<)\n",
      "             10 POP_JUMP_IF_FALSE       14 (to 28)\n",
      "\n",
      "  4     >>   12 LOAD_FAST                0 (x)\n",
      "             14 LOAD_CONST               1 (1)\n",
      "             16 BINARY_ADD\n",
      "             18 STORE_FAST               0 (x)\n",
      "\n",
      "  3          20 LOAD_FAST                0 (x)\n",
      "             22 LOAD_CONST               2 (5)\n",
      "             24 COMPARE_OP               0 (<)\n",
      "             26 POP_JUMP_IF_TRUE         6 (to 12)\n",
      "\n",
      "  5     >>   28 LOAD_FAST                0 (x)\n",
      "             30 RETURN_VALUE\n"
     ]
    }
   ],
   "source": [
    "def loop():\n",
    "    x = 1\n",
    "    while x < 5:\n",
    "        x = x + 1\n",
    "    return x\n",
    "\n",
    "import dis\n",
    "dis.dis(loop)"
   ]
  },
  {
   "cell_type": "markdown",
   "metadata": {},
   "source": [
    "Python loops also rely on jumping. In the bytecode above, notice that the line `while x < 5` generates almost identitical bytecode to `if x < 10`. In both the cases, the comparison is calculated and then `POP_JUMP_IF_FALSE` controls which instruction is executed next.\n",
    "\n",
    "### Exploring Bytecode\n",
    "\n",
    "* What is the difference between a for loop and while loop to the Python interpreter? Let's see."
   ]
  },
  {
   "cell_type": "code",
   "execution_count": 12,
   "metadata": {},
   "outputs": [
    {
     "name": "stdout",
     "output_type": "stream",
     "text": [
      "  3           0 LOAD_CONST               1 (1)\n",
      "              2 STORE_FAST               0 (x)\n",
      "\n",
      "  4           4 LOAD_GLOBAL              0 (range)\n",
      "              6 LOAD_CONST               2 (5)\n",
      "              8 CALL_FUNCTION            1\n",
      "             10 GET_ITER\n",
      "        >>   12 FOR_ITER                 6 (to 26)\n",
      "             14 STORE_FAST               1 (i)\n",
      "\n",
      "  5          16 LOAD_FAST                0 (x)\n",
      "             18 LOAD_FAST                1 (i)\n",
      "             20 BINARY_ADD\n",
      "             22 STORE_FAST               0 (x)\n",
      "             24 JUMP_ABSOLUTE            6 (to 12)\n",
      "\n",
      "  6     >>   26 LOAD_FAST                0 (x)\n",
      "             28 RETURN_VALUE\n"
     ]
    }
   ],
   "source": [
    "# For loop example\n",
    "def for_loop():\n",
    "    x = 1\n",
    "    for i in range(5):\n",
    "        x = x + i\n",
    "    return x\n",
    "\n",
    "import dis\n",
    "dis.dis(for_loop)"
   ]
  },
  {
   "cell_type": "markdown",
   "metadata": {},
   "source": [
    "* We are loading 1 to `x`\n",
    "* We are loading the global function `range`\n",
    "* We are loading the constant `5`\n",
    "* Once we loaded `5`, we are calling the range function using `CALL_FUNCTION` instruction. This function returns an iterable and puts it on the stack\n",
    "* Next we execute `FOR_ITER` instruction. This does two things\n",
    "    * It calls the `__next__()` method in the iterator which is present in the stack\n",
    "    * If `__next__` yields a new value, push it on the stack (leaving the iterator below it).\n",
    "    * If the iterator indicates it is exhausted then the byte code counter is incremented by delta (here delta is 26)\n",
    "* Once the iterator is exhausted, it executes the instruction at index `26`, which is `LOAD_FAST`. This loads the value which presents on top of the stack into `x`\n",
    "* Finally, `RETURN_VALUE` instruction is executed. Which returns the value of `x`"
   ]
  },
  {
   "cell_type": "markdown",
   "metadata": {},
   "source": [
    "## Frames\n",
    "So far, we've learned that the Python virtual machine is a stack machine. It steps and jumps through instructions, pushing and popping values on and off a stack. There are still some gaps in our mental model though. In the example above, the last instruction is `RETURN_VALUE` which corresponds to the `return` statement in the code. But where does the instruction return to?\n",
    "\n",
    "To answer this question. we must add a layer of complexity: **the frame**. A frame is a collection of information and context for a chuck of code. Frames are created and destroyed on the fly as your Python code executes. There's one frame corresponding to each *call* of a function - so each frame has one code object associated with it, a code object can have many frames. If you had a function that called itself recursively ten times, you'd have eleven frames - one for each level of recursion and one for the module you started from. In general, there's a frame for each scope in a Python program. For example, each module, each function call, and each class definition has a frame.\n",
    "\n",
    "Frames live on a *call stack*, a completely different stack from the ones we've been discussing so far. (The call stack is the stack you're most familiar with already) - you've seen it printed out in the tracebacks of exceptions. Each line in the traceback starting with \"File 'program.py', line 10\" corresponds to one frame on the call stack.). The stack we've been examining - the one the interpreter is manipulating while it executes bytecode - we'll call the *data stack*. There's also a third stack, called the *block stack*. Blocks are used for certain kind of control flow, particularly looping and exception handling. Each frame on the call stack has its own data stack and block stack.\n",
    "\n",
    "Types of stacks we've discussed so far:\n",
    "* Call stack\n",
    "* Data stack\n",
    "* Block stack\n",
    "\n",
    "Lets make this concrete with an example. Suppose the Python interpreter is currently executing the line marked 3 below. The interpreter is in the middle of a call to `foo`, which is in turn calling `bar`. The diagram shows a schematic of a call stack of frames, the block stacs, and the data stacks. \n",
    "\n",
    "```python\n",
    "def bar(y):\n",
    "    z = y + 3       # <--- (3) ... and the interpreter is here\n",
    "    return z\n",
    "\n",
    "def foo():\n",
    "    a = 1\n",
    "    b = 2\n",
    "    return a + bar(b)   # <--- (2) ... which is returning a call to bar ...\n",
    "\n",
    "foo()       # <--- (1) We're in the middle of a call to foo...\n",
    "```\n",
    "\n",
    "![Call stack](./assets/call_stack.png)"
   ]
  },
  {
   "cell_type": "markdown",
   "metadata": {},
   "source": []
  }
 ],
 "metadata": {
  "kernelspec": {
   "display_name": "3.10.0",
   "language": "python",
   "name": "python3"
  },
  "language_info": {
   "codemirror_mode": {
    "name": "ipython",
    "version": 3
   },
   "file_extension": ".py",
   "mimetype": "text/x-python",
   "name": "python",
   "nbconvert_exporter": "python",
   "pygments_lexer": "ipython3",
   "version": "3.10.0"
  }
 },
 "nbformat": 4,
 "nbformat_minor": 2
}
