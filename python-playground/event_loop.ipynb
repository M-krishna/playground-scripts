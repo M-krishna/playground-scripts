{
 "cells": [
  {
   "cell_type": "markdown",
   "metadata": {},
   "source": [
    "### What is an Event loop?\n",
    "\n",
    "An event loop is a programming pattern that waits for and dispatches events or messages in a program. It's the central mechanism that allows a single-threaded program to perform non-blocking operations, particularly I/O bound tasks like network requests, file operations or user input.\n",
    "\n",
    "### The problems event loop solves\n",
    "\n",
    "Before event loops, we had two main approaches to handle multiple operations:\n",
    "1. Sequencial (blocking) execution\n",
    "2. Thread-based concurrency\n",
    "\n",
    "### Sequencial (blocking) execution\n",
    "Operations happen one after another. While waiting for slow operation (like reading a file), the entire program blocks, wasting CPU time.\n",
    "\n",
    "### Thread-based concurrency\n",
    "Create a new thread for each operation. This introduces complexity with thread management, synchronization and resource consumption.\n",
    "\n",
    "The event loop offers a middle ground: a single-threaded model that can handle multiple operations concurrently without blocking.\n",
    "\n",
    "### Before Event Loops\n",
    "Let's consider a simple webserver before event loops\n",
    "```python\n",
    "# Traditional blocking server (simplified) \n",
    "while True:\n",
    "    connection = accept_connection()    # blocks until client connects\n",
    "    data = connection.receive()         # blocks until data arrives\n",
    "    result = process_data(data)         # CPU processing\n",
    "    connection.send(result)             # Blocks until data is send\n",
    "    connection.close()\n",
    "```\n",
    "\n",
    "This server can only handle one client at a time. It reading data takes 3 seconds then other clients must wait\n",
    "\n",
    "### Event Loop Concepts\n",
    "An event loop consists of several key components:\n",
    "1. Event Queue: Stores events (tasks) waiting to be processed.\n",
    "2. Event loop: Continuously checks for events and processes them.\n",
    "3. Event handlers/callbacks: Functions that run when an event occurs\n",
    "4. Non-blocking I/O: Operations that don't block the main thread"
   ]
  },
  {
   "cell_type": "code",
   "execution_count": 10,
   "metadata": {},
   "outputs": [
    {
     "name": "stdout",
     "output_type": "stream",
     "text": [
      "<socket.socket fd=73, family=AddressFamily.AF_INET, type=SocketKind.SOCK_STREAM, proto=0, laddr=('0.0.0.0', 8080)>\n"
     ]
    }
   ],
   "source": [
    "# A Simple sequencial webserver\n",
    "\n",
    "import socket\n",
    "\n",
    "# Create a socket object (need to look at different types of configs later)\n",
    "socket_obj = socket.socket(socket.AF_INET, socket.SOCK_STREAM)\n",
    "\n",
    "# Bind the socket to an unused port\n",
    "socket_obj.bind(('0.0.0.0', 8080))\n",
    "\n",
    "# Listen to incoming connections\n",
    "socket_obj.listen()\n",
    "\n",
    "print(socket_obj)\n"
   ]
  }
 ],
 "metadata": {
  "kernelspec": {
   "display_name": "3.10.0",
   "language": "python",
   "name": "python3"
  },
  "language_info": {
   "codemirror_mode": {
    "name": "ipython",
    "version": 3
   },
   "file_extension": ".py",
   "mimetype": "text/x-python",
   "name": "python",
   "nbconvert_exporter": "python",
   "pygments_lexer": "ipython3",
   "version": "3.10.0"
  }
 },
 "nbformat": 4,
 "nbformat_minor": 2
}
